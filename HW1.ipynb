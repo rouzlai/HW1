{
  "nbformat": 4,
  "nbformat_minor": 0,
  "metadata": {
    "colab": {
      "provenance": []
    },
    "kernelspec": {
      "name": "python3",
      "display_name": "Python 3"
    },
    "language_info": {
      "name": "python"
    }
  },
  "cells": [
    {
      "cell_type": "code",
      "execution_count": null,
      "metadata": {
        "colab": {
          "base_uri": "https://localhost:8080/"
        },
        "id": "L0R8QOCXX7nb",
        "outputId": "d067af18-4cf7-4f2b-eda2-d1553c916a40"
      },
      "outputs": [
        {
          "output_type": "stream",
          "name": "stdout",
          "text": [
            "Hello, World23333\n"
          ]
        }
      ],
      "source": [
        "a = \"Hello, \"\n",
        "b = \"World\"\n",
        "c = \"23333\"\n",
        "print (a + b + c)"
      ]
    }
  ]
}